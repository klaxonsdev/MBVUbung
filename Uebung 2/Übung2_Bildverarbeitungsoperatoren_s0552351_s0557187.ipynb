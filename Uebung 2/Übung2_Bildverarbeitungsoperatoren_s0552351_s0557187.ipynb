{
 "cells": [
  {
   "cell_type": "markdown",
   "metadata": {},
   "source": [
    "# Übung 2 - Bildverarbeitungsoperatoren "
   ]
  },
  {
   "cell_type": "markdown",
   "metadata": {},
   "source": [
    "**Name:** Faiz Akbar Daud, **Matr.-Nr.:** 552351\n",
    "<br>\n",
    "**Name:** Hatem Al-tayi, **Matr.-Nr.:** 557187\n",
    "\n",
    "---"
   ]
  },
  {
   "cell_type": "markdown",
   "metadata": {},
   "source": [
    "## Bearbeitungszeitraum\n",
    "\n",
    "**Bearbeitungsbegin:** Do, 21.11.2019\n",
    "<br>\n",
    "**Abgabe:** Do, 19.12.2019, 23:55 Uhr\n",
    "\n",
    "---"
   ]
  },
  {
   "cell_type": "markdown",
   "metadata": {},
   "source": [
    "## Aufgabenbeschreibung"
   ]
  },
  {
   "cell_type": "markdown",
   "metadata": {},
   "source": [
    "Ziel dieser Übung ist die praktische Anwendung, der in der Vorlesung eingeführten Bildverarbeitungsoperatoren, wie z.B. Filterung im Ortsraum zur globalen Rauschunterdrückung, morphologische Operatoren usw.\n",
    "\n",
    "\n",
    "**Hinweise zur Abgabe**\n",
    "\n",
    "- Füllen Sie unbedingt die erste Zelle unterhalb der Überschrift mit Name und Matr.-Nr. aus!\n",
    "- Ergänzen Sie den Dateinamen des Notebooks vor der Abgabe um `_` und Ihre Matr.-Nr. (`Uebung 1 - Biosignale_s0500000_s0500001.ipynb`).\n",
    "- Entfernen Sie vor dem Upload alle Ausgaben aus dem Notebook!\n",
    "- Die Bilddatei muss nicht abgegeben werden.\n",
    "\n",
    "**Hinweise zur Benotung**\n",
    "\n",
    "- Die Aufgabe wird nach dem üblichen Notenschema von 1,0 bis 5,0 bewertet.\n",
    "- Diese Aufgabe wird mit 35% in der Gesamtnote der Übung gewichtet.\n",
    "\n",
    "### Viel Erfolg!"
   ]
  },
  {
   "cell_type": "markdown",
   "metadata": {},
   "source": [
    "### Aufgabenbeschreibung\n",
    "Der Begriff **Leukämie**, auch Blutkrebs genannt, steht für eine Gruppe von Krebserkrankungen des blutbildenden Systems. Die einzelnen Formen unterscheiden sich bezüglich Häufigkeit, Ursachen, Behandlungsmöglichkeiten und Heilungsaussichten zum Teil stark voneinander. Leukämie geht von den Knochenmarkszellen aus und ist in der Regel durch eine stark erhöhte Zahl weißer Blutkörperchen im Blut gekennzeichnet. \n",
    "\n",
    "![BlutBild](Blutbild_LeukaemieVsGesund.jpg)\n",
    "\n",
    "\n",
    "***Eine Leukämie geht mit Veränderungen im Blutbild einher*** (Bildquelle: Apotheken-umschau)\n",
    "\n",
    "\n",
    "\n",
    "\n",
    "             "
   ]
  },
  {
   "cell_type": "markdown",
   "metadata": {},
   "source": [
    "### 1. Aufgabe - Einlesen und Visualisieren eines Leukämie(CLL)-Zellenbildes\n",
    "\n",
    "Die chronische lymphatische Leukämie (CLL) ist ein niedrigmaligne, in der westlichen Welt die am häufigsten vorkommende Leukämieform. Die Diagnose dieser Erkrankung erfolgt zunächst im Blutbild. Lesen sie die Datei \"leukaemie.jpg\" ein, um ein solches Blutbild darzustellen. Visualisieren Sie das eingelesene Bild (verwenden Sie die Funktionen `imshow` und `show`). Konvertieren Sie die .jpg-Datei in ein numpy-array.\n",
    "\n"
   ]
  },
  {
   "cell_type": "code",
   "execution_count": null,
   "metadata": {
    "scrolled": true
   },
   "outputs": [],
   "source": [
    "from matplotlib.image import imread\n",
    "import matplotlib.pyplot as plt\n",
    "\n",
    "#Das Bild wird eingelesen und ausgegeben\n",
    "img = imread('leukaemie.jpg')\n",
    "plt.figure(figsize=(8,8))\n",
    "plt.imshow(img)\n",
    "plt.show()\n",
    "print (img)\n"
   ]
  },
  {
   "cell_type": "markdown",
   "metadata": {},
   "source": [
    "### 2. Aufgabe - Orts- und Frequenzraumanalyse sowie Filterung des Zellbildes\n",
    "\n",
    "Im Rahmen dieser Aufgabe sollen Sie Ihre Kenntnisse mit globalen Bildstörungen einsetzen, indem Sie auf diese Störungen zurückzuführende Veränderungen im Frequenzraum erkennen und eliminieren. Um solch eine spektrale Bildanalyse durchführen zu können, müssen Sie mittels Fourierttrasformation vom Ortsraum in den Frequenzraum wechseln. Dazu können Sie aus `numpy` die ensprechende mathematische Funktion namens `fft` benutzen. Ebenfalls lässt sich die `fft` Funktion der `cv2` library einsetzen und ist ggf. bis zu 3x performanter. \n",
    "\n",
    "**2.1: Globale Bildstörungen erzeugen, Orts- sowie Frequenzraum darstellen**\n",
    "- Erzeugen Sie im ersten Schritt globale Bildstörungen (Rauschen). Globale Bildstörung kann z.B. Gauss-Rauschen, Salz-Pfeffer-Rauschen o.ä. periodische Bildartefakte sein (vgl. VL-Folien).\n",
    "- Wenden Sie das erzeugte Rauschen auf das Bild `leukaemie.jpg` an. \n",
    "- Wenden Sie die Fouriertransformation sowohl auf das Grauwertbild als auch auf die verrauschte Kopie des Grauwertbildes an.\n",
    "- Visualisieren Sie beide Bilder mit ihren jeweiligen Frequenzspektren (`subplot` mit 2x2-Raster)\n",
    "\n",
    "\n",
    "**2.2: Histogramme erzeugen**\n",
    "- Visualisieren Sie die Histogramme des verrauschten sowie des unverarbeiteten Originalbildes, um die Grauwertverteilungen darzustellen.\n",
    "\n",
    "\n",
    "**2.3: Filterung im Frequenzraum**\n",
    "- Führen Sie eine Filterung des verrauschten Bildes (im Frequenzraum!) durch, um die zuvor (in der Teilaufgabe 2.1) erzeugten Störungen wieder weitesgehend zu eliminieren\n",
    "- Visualisieren Sie das gefilterte Bild sowie das dazugehörige Frequenzspektrum nebeneinander.\n",
    "\n",
    "**2.4: Erläuterung der verwendeten Methoden**\n",
    "- Erläutern Sie stichpunktartig die Funktionsweise der verwendeten Funktionen zur Rauscherzeugung sowie Rauschunterdrückung.\n",
    "- Erläutern Sie stichpunktartig die Funktionsweise der eingesetzten FFT sowie iFFT! \n",
    "\n",
    "\n",
    "**Hinweise:**\n",
    "- Beim Einlesen des Bildes (z.B. mit `imread` aus der Bibliothek `skimage`) den Parameter `as_gray` gleich 'True' setzen und mit diesem Graubild weiterarbeiten. Beim plotten müssen Sie ggf. dennoch `cmap='gray'` setzen.\n",
    "- Falls Sie Gauss-Rauschen erzeugen, dann sollte der Sigma-Wert nicht das Maximum von 1.0 überschreiten - denn es reicht ein leichtes Rauschen, das zusätzlich zum Ortsraum auch im Frequenzraum erkennbar ist.\n",
    "- Vor der Anwendung der Fouriertransformation müssen Sie die Bildgröße anpassen, da das Originalbild nicht quadratisch ist (vgl. VL-Folien zur FFT: Anzahl Zeilen/Spalten muss identisch sein!)\n",
    "- Führen Sie die Filterung im Frequenzraum durch, weil es sich um eine globale Bildstörung handelt! Überlegen Sie vorher, was der Filter bewirken soll (glätten? Kanten hervorheben?, ..) und probieren Sie unterschiedliche Filterkerngrößen (3x3, 5x5,7x7) aus! Und denken Sie an die anschließende Rücktransformation!\n",
    "\n"
   ]
  },
  {
   "cell_type": "code",
   "execution_count": null,
   "metadata": {},
   "outputs": [],
   "source": [
    "#Aufgabe 2.1\n",
    "import numpy as np\n",
    "import cv2\n",
    "import matplotlib.pyplot as plt\n",
    "from matplotlib.image import imread\n",
    "\n",
    "from PIL import Image  \n",
    "import PIL  \n",
    "from PIL import ImageOps\n",
    "\n",
    "image = cv2.imread('leukaemie.jpg',0)\n",
    "plt.figure(figsize=(15,15))\n",
    "\n",
    "# Hier wird das Rauschen mithilfe von Gauss erzeugt\n",
    "mean = 0\n",
    "sigma = 10\n",
    "gauss = np.random.normal(mean, sigma,(image.shape[0],image.shape[1]) ) \n",
    "\n",
    "# Hier wird das Originale Bild (Grau Bild) mit dem Gauss übereinandergelappt\n",
    "noise = np.zeros(image.shape, np.float32)\n",
    "noise = image + gauss\n",
    "cv2.normalize(noise, noise, 0, 255, cv2.NORM_MINMAX, dtype=-1)\n",
    "noise = noise.astype(np.uint8)\n",
    "\n",
    "# Hier wird der Frequenzraum vom Original Bild (Graubild) erzeugt\n",
    "fourierog = np.fft.fft2(image)\n",
    "fshiftog = np.fft.fftshift(fourierog)\n",
    "magnitude_spectrumog = 20*np.log(np.abs(fshiftog))\n",
    "\n",
    "# Hier wird der Frequenzraum vom verrauschten Bild erzeugt\n",
    "fouriernoise = np.fft.fft2(noise)\n",
    "fshiftnoise = np.fft.fftshift(fouriernoise)\n",
    "magnitude_spectrumnoise = 20*np.log(np.abs(fshiftnoise))\n",
    "\n",
    "# Hier werden alle Bilder Sortiert und ausgegeben\n",
    "plt.subplot(2, 2, 1), plt.imshow(image, cmap='gray')\n",
    "plt.title(\"Gray Original\")\n",
    "plt.subplot(2, 2, 2),plt.imshow(magnitude_spectrumog, cmap='gray')\n",
    "plt.title(\"Original Frequenzraum\")\n",
    "plt.subplot(2, 2,3), plt.imshow(noise, cmap='gray')\n",
    "plt.title(\"With Gaussian Noise\")\n",
    "plt.subplot(2, 2,4),plt.imshow(magnitude_spectrumnoise,cmap='gray')\n",
    "plt.title(\"with Gaussian Noise Frequenzraum\")\n",
    "\n",
    "plt.show()"
   ]
  },
  {
   "cell_type": "code",
   "execution_count": null,
   "metadata": {},
   "outputs": [],
   "source": [
    "#Aufgabe 2.2\n",
    "\n",
    "# Hier werden die Histogramme (Vom Original Grau Bild & dem verrauschten Graubild) erzeugt , sortiert und ausgegeben\n",
    "plt.figure(figsize=(15,5))\n",
    "plt.subplot(1, 2, 1), plt.hist(image.ravel(), bins=256, range=(0,255), fc='k', ec='k')\n",
    "plt.title(\"Gray Original Histogram\")\n",
    "plt.subplot(1, 2, 2), plt.hist(noise.ravel(), bins=256, range=(0,255), fc='k', ec='k')\n",
    "plt.title(\"With gaussian noise Histogram\")\n",
    "plt.show()\n"
   ]
  },
  {
   "cell_type": "code",
   "execution_count": null,
   "metadata": {},
   "outputs": [],
   "source": [
    "#Aufgabe 2.3\n",
    "\n",
    "from scipy import fftpack\n",
    "im_fft = fftpack.fft2(noise)\n",
    "\n",
    "# Hier definieren wir die koeffizienten in jede Richtung\n",
    "keep_fraction = 0.2\n",
    "\n",
    "# Erzeugt eine Kopie vom verrauscheten Graubild (im_fft) \n",
    "im_fft2 = im_fft.copy()\n",
    "\n",
    "# r und c als Variablen für die Anzahl der Zeilen und Spalten\n",
    "r, c = im_fft2.shape\n",
    "\n",
    "# Die größe der \"Maske\" in Zeilen-Richtung wird berechnet\n",
    "im_fft2[int(r*keep_fraction):int(r*(1-keep_fraction))] = 1\n",
    "\n",
    "# Das selbe nur mit den Spalten\n",
    "im_fft2[:, int(c*keep_fraction):int(c*(1-keep_fraction))] = 1\n",
    "\n",
    "# Hier wird nur der wirklich vorhandene Teil angezeigt\n",
    "# FFT = fast Fourier transform\n",
    "# iFFT = Inverse Fast Fourier Transformation\n",
    "im_new = fftpack.ifft2(im_fft2).real\n",
    "\n",
    "# Das rekonstruierte Bild wird als Freuquenraum dargestellt\n",
    "fourierdenoise = np.fft.fft2(im_new)\n",
    "fshiftdenoise = np.fft.fftshift(fourierdenoise)\n",
    "magnitude_spectrumdenoise = 20*np.log(np.abs(fshiftdenoise))\n",
    "\n",
    "# Das Original Bild wird als Freuquenraum dargestellt\n",
    "fourierdenoisex = np.fft.fft2(image)\n",
    "fshiftdenoisex = np.fft.fftshift(fourierdenoisex)\n",
    "magnitude_spectrumdenoisex = 20*np.log(np.abs(fshiftdenoisex))\n",
    "\n",
    "\n",
    "plt.figure(figsize=(15,15))\n",
    "plt.subplot(3, 2,1),plt.imshow(noise,cmap='gray')\n",
    "plt.title(\"with Gaussian Noise Frequenzraum\")\n",
    "plt.subplot(3, 2,2),plt.imshow(im_new,cmap='gray')\n",
    "plt.title(\"Reconstructed Denoizing Image\")\n",
    "plt.subplot(3, 2,3),plt.imshow(magnitude_spectrumdenoise,cmap='gray')\n",
    "plt.title(\"Denoising Frequenzraum\")\n",
    "plt.subplot(3, 2,4),plt.imshow(image, cmap='gray')\n",
    "plt.title(\"Original Bild\")\n",
    "plt.subplot(3, 2,5),plt.imshow(magnitude_spectrumdenoisex, cmap='gray')\n",
    "plt.title(\"Frequenzraum vom Original\")\n",
    "plt.show()"
   ]
  },
  {
   "cell_type": "markdown",
   "metadata": {},
   "source": [
    "### 3. Morphologische Operationen\n",
    " \n",
    "**3.1 Strukturen verkleinern/vergrößern, um schmale Verbindungen zu lösen/Lücken zu schließen**\n",
    "\n",
    "Führen Sie folgende morphologische Operationen mit dem Originalbild `leukaemie.jpg` durch:\n",
    "    - Erosion\n",
    "    - Dilation\n",
    "    - Opening\n",
    "    - Closing\n",
    " \n",
    "Hierbei können Sie sowohl `Skimage`- als auch `CV2`-Bibliotheken benutzen. Stellen Sie Ihre Ergebnisse in einem 2x2-subplot dar. \n",
    "\n",
    "\n",
    "\n",
    "**3.2 Vorgehensweise für Merkmalsextraktion planen**\n",
    "\n",
    "- Welche, der in der Teilaufgabe 3.1 eingesetzten morphologischen Operationen ist am besten geeignet, falls die Anzahl der Zellen im Bild gezählt werden soll.\n",
    "\n",
    "- Beschreiben Sie die gesamte Vorgehensweise, wie und mit welchen Bildverarbeitungsoperatoren die lila gefärbten Leukozyten von den restlichen Blutzellen getrennt und im Anschluss vollautomatische gezählt werden können.\n",
    "\n",
    "\n",
    "***Achtung:***\n",
    "In diesem Abschnitt müssen Sie nichts implementieren. Statt dessen sollen Sie Ihre Idee zur vollautomatischen Merkmalsextraktion planen und stichpunktartig wiedergeben.\n",
    " "
   ]
  },
  {
   "cell_type": "code",
   "execution_count": null,
   "metadata": {},
   "outputs": [],
   "source": [
    "#Aufgabe 3.1\n",
    "\n",
    "import cv2 \n",
    "import numpy as np\n",
    "from matplotlib.image import imread\n",
    "\n",
    "image = imread('leukaemie.jpg')\n",
    "\n",
    "# Hier werden alle Pixel in der Nähe der Grenze, abhängig von der Größe des Kernels und je nach \n",
    "# Morphologischem Operator zB verwerfen.\n",
    "kernel = np.ones((20,20), np.uint8)\n",
    "\n",
    "# Hier werden die verschiedenen Morphologischen Operatoren aufgeführt\n",
    "# Achtung bei cv2 werden die Kernel auf die weißen Pixel angewendet (Dilatation wird dadurch kleiner statt größer)\n",
    "image_erosion = cv2.erode(image,kernel,iterations=2)\n",
    "image_dilation = cv2.dilate(image,kernel,iterations=2)\n",
    "image_opening = cv2.morphologyEx(image, cv2.MORPH_OPEN, kernel)\n",
    "image_closing = cv2.morphologyEx(image, cv2.MORPH_CLOSE, kernel)\n",
    "\n",
    "plt.figure(figsize=(20,20))\n",
    "\n",
    "plt.subplot(2, 2,1),plt.imshow(image_erosion)\n",
    "plt.title(\"Eroded Image\")\n",
    "plt.subplot(2, 2,2),plt.imshow(image_dilation)\n",
    "plt.title(\"Dilated Image\")\n",
    "plt.subplot(2, 2,3),plt.imshow(image_opening)\n",
    "plt.title(\"Image with Opening Morph Transformation\")\n",
    "plt.subplot(2, 2,4),plt.imshow(image_closing)\n",
    "plt.title(\"Image with Closing Morph Transformation\")\n",
    "\n",
    "plt.subplots_adjust(hspace=0.01)\n",
    "plt.show()"
   ]
  },
  {
   "cell_type": "markdown",
   "metadata": {},
   "source": [
    "#Aufgabe 3.2\n",
    "\n",
    "• \"Dilatation\" in diesem ist die beste Methode um die Anzahl der Zellen zu zählen, da hier zunächst die Strukturen verkleinert & anschließend schmale Verbindungen gelöst werden. (Anmerkung: Die Zellen sollten lieber etwas verkleinert werden, als vergrößert um 2 nahbeieinander liegende Zellen voneinander unterscheiden zu können). Bei dieser Methode werden ungewollte Störungen aus dem Bild gelöst.\n",
    "\n",
    "\n",
    "• Mit Hilfe der kantenorientierung Segmentierungsverfahren kann man die lila gefärbten Leukozyten von den restlichen Blutzellen getrennt und im Anschluss vollautomatische zu zählen"
   ]
  },
  {
   "cell_type": "code",
   "execution_count": null,
   "metadata": {},
   "outputs": [],
   "source": []
  }
 ],
 "metadata": {
  "kernelspec": {
   "display_name": "Python 3",
   "language": "python",
   "name": "python3"
  },
  "language_info": {
   "codemirror_mode": {
    "name": "ipython",
    "version": 3
   },
   "file_extension": ".py",
   "mimetype": "text/x-python",
   "name": "python",
   "nbconvert_exporter": "python",
   "pygments_lexer": "ipython3",
   "version": "3.7.3"
  }
 },
 "nbformat": 4,
 "nbformat_minor": 2
}
