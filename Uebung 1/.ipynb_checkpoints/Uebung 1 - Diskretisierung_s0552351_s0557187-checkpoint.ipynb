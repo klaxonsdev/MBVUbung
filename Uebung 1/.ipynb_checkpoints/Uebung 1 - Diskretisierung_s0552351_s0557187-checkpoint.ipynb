{
 "cells": [
  {
   "cell_type": "markdown",
   "metadata": {},
   "source": [
    "# Übung 1: Diskretisierung"
   ]
  },
  {
   "cell_type": "markdown",
   "metadata": {},
   "source": [
    "**Name:** Faiz Akbar Daud, **Matr.-Nr.:** 552351\n",
    "<br>\n",
    "**Name:** Hatem Al-Tayi, **Matr.-Nr.:** 557187\n",
    "\n",
    "---"
   ]
  },
  {
   "cell_type": "markdown",
   "metadata": {},
   "source": [
    "## Bearbeitungszeitraum\n",
    "\n",
    "**Bearbeitungsbeginn:** Mo, 31.10.2019\n",
    "<br>\n",
    "**Abgabe:** So, 20.11.2019, 23:55 Uhr\n",
    "\n",
    "---"
   ]
  },
  {
   "cell_type": "markdown",
   "metadata": {},
   "source": [
    "## Aufgabenbeschreibung"
   ]
  },
  {
   "cell_type": "markdown",
   "metadata": {},
   "source": [
    "Ziel dieser Übung ist die Einführung in die Bildverarbeitung mit Python. Sie sollen Bilder einlesen, visualisieren und konvertieren können. Zudem sollen Sie lernen, wie Farb-/Grauwerte eines Bildes manipuliert werden können. \n",
    "Sie sollen sich zur Bearbeitung dieser Aufgabe mit den bereits vorgestellten imaging libraries beschäftigen und sie einsetzen.\n",
    "\n",
    "Für die Visualisierung kann das *matplotlib*-Paket verwendet werden. Alle Diagramme sollen *inline* in diesem Notebook ausgegeben werden. Alle interaktiven Inhalte sollen unter Venwendung der Funktionen des Pakets *ipywidgets* realisiert werden.\n",
    "\n",
    "\n",
    "**Hinweise zur Abgabe**\n",
    "\n",
    "- Füllen Sie unbedingt die erste Zelle unterhalb der Überschrift mit Name und Matr.-Nr. aus!\n",
    "- Ergänzen Sie den Dateinamen des Notebooks vor der Abgabe um `_` und Ihre Matr.-Nr. (`Uebung 1 - Biosignale_s0500000_s0500001.ipynb`).\n",
    "- Entfernen Sie vor dem Upload alle Ausgaben aus dem Notebook!\n",
    "- Die Bilddatei muss nicht abgegeben werden.\n",
    "\n",
    "**Hinweise zur Benotung**\n",
    "\n",
    "- Die Aufgabe wird nach dem üblichen Notenschema von 1,0 bis 5,0 bewertet.\n",
    "- Diese Aufgabe wird mit 25% in der Gesamtnote der Übung gewichtet.\n",
    "\n",
    "### Viel Erfolg!"
   ]
  },
  {
   "cell_type": "markdown",
   "metadata": {},
   "source": [
    "### 1. Einlesen, Visualisierung und Konvertierung \n",
    "- 1.1. Lesen sie die Datei \"Schwarm.jpg\" ein.\n",
    "Visualisieren Sie das, in der Datei enthaltene Bild (verwenden Sie die Funktionen `imshow` und `show`). Optional kann auch die cv2.imread-Funktion benutzt werden.\n",
    "- 1.2. Führen Sie eine einfache, Schwellwert-basierte Konvertierung des Originalbildes durch, in dem Sie die `threshold`- Funktion (mit dem input value `cv2.THRESH_BINARY`) aus der `cv2`-Bibliothek verwenden. \n",
    "Visualisieren Sie beide Bilder mit Hilfe der `subplot`-Funktion in einer Zeile dar.\n",
    "- 1.3. Analysieren Sie die Array-Werte des neu erzeugten Bildes. Was hat die Thresholding-Funktion bewirkt? Nach welchem Kriterium wurden die einzelnen Pixelwerte verändert? (Stichpunktartige Antwort)\n",
    "\n",
    "***Anmerkung:*** Nachdem Sie bei der ersten Aufgabe BGR in ein GRAY-Bild umgewandelt haben, denken Sie dran plt.imshow(image, cmap='binary‘) zu setzen, damit das Bild nicht in gelb/lila dargestellt wird."
   ]
  },
  {
   "cell_type": "code",
   "execution_count": null,
   "metadata": {
    "scrolled": false
   },
   "outputs": [],
   "source": [
    "import matplotlib.pyplot as plt\n",
    "import cv2\n",
    "\n",
    "image = cv2.imread(\"Schwarm.jpg\")\n",
    "imagegray = cv2.imread(\"Schwarm.jpg\",0)\n",
    "plt.figure(figsize=(9,5))\n",
    "\n",
    "ret,thresh1 = cv2.threshold(imagegray,127,255,cv2.THRESH_BINARY)\n",
    "    \n",
    "plt.subplot(1, 2, 1), plt.imshow(cv2.cvtColor(image, cv2.COLOR_BGR2RGB))\n",
    "plt.title(\"Original\")\n",
    "plt.subplot(1, 2, 2), plt.imshow(thresh1, cmap='binary')\n",
    "plt.title(\"Threshold Binary\")\n",
    "plt.show()\n",
    "\n",
    "print(image.shape)\n",
    "print(imagegray.shape)\n",
    "\n",
    "print(\"Im Original gibt es 3 Dimensionen (RGB) Im Grey Bild jedoch nur 2 Dimensionen\")"
   ]
  },
  {
   "cell_type": "markdown",
   "metadata": {},
   "source": [
    "### 2. Binärbild erzeugen\n",
    "\n",
    "**Interaktive Threshold-Eingabe** \n",
    "\n",
    "Das Ziel dieser Aufgabe ist es, aus dem farbigen \"Schwarm.jpg\" ein Binärbild (also ein s/w-Bild!) zu erzeugen, da Binärbilder die Grundvoraussetzung von vielen Bildverarbeitungsoperationen sind.\n",
    "Bildverarbeitungsbibliotheken wie `scipy` bieten bereits robuste Schwellwert-basierte Funktionen, die Sie sich gerne anschauen und auch testweise anwenden können. \n",
    "Für diese Teilaufgabe sollten Sie jedoch einen Slider implementieren, über den ein Schwellenwert (Grenzen 0 und 255, Schrittweite 1, Standardwert 127) für eine Binärkonvertierung festgelegt werden kann. Konvertieren Sie Originalbild unter Verwendung des Schwellenwertes in ein Binärbild. Eine einfache Konvertierung kann durch folgende Zeile erreicht werden: binary_image = (image >= schwellenwert) * 1. \n",
    "\n",
    "***Hinweis:*** \n",
    "Nutzen Sie die Funktionen zur Erstellung einer interaktiven Visualisierung aus dem ipywidgets-Paket (siehe auch Demo-Notebook -> Beispiel Gauss-Filter)."
   ]
  },
  {
   "cell_type": "code",
   "execution_count": null,
   "metadata": {
    "scrolled": true
   },
   "outputs": [],
   "source": [
    "from io import BytesIO\n",
    "from IPython.display import Image\n",
    "from ipywidgets import interact, fixed\n",
    "import matplotlib as mpl\n",
    "from skimage import data, filters, io"
   ]
  },
  {
   "cell_type": "code",
   "execution_count": null,
   "metadata": {},
   "outputs": [],
   "source": [
    "# Hilfsfunktion zur Konvertierung eines Numpy-Arrays in ein 'Image'-Objekt\n",
    "\n",
    "def arr2img(arr):\n",
    "    if arr.ndim == 2:\n",
    "        format, cmap = 'png', mpl.cm.gray\n",
    "    elif arr.ndim == 3:\n",
    "        format, cmap = 'jpg', None\n",
    "    else:\n",
    "        raise ValueError(\"Only 2- or 3-d arrays can be displayed as images.\")\n",
    "    vmax = 255 if arr.dtype == 'uint8' else 1.0\n",
    "    with BytesIO() as buffer:\n",
    "        mpl.image.imsave(buffer, arr, format=format, cmap=cmap, vmin=0, vmax=vmax)\n",
    "        out = buffer.getvalue()\n",
    "    return Image(out)"
   ]
  },
  {
   "cell_type": "code",
   "execution_count": null,
   "metadata": {},
   "outputs": [],
   "source": [
    "def edit_image(image, Threshold=127):\n",
    "    ret, gray = cv2.threshold(image,Threshold,255,cv2.THRESH_BINARY)\n",
    "    return arr2img(gray)"
   ]
  },
  {
   "cell_type": "code",
   "execution_count": null,
   "metadata": {},
   "outputs": [],
   "source": [
    "# Interaktiv wäre doch viel besser !!!\n",
    "from IPython.display import display\n",
    "import ipywidgets as widgets\n",
    "img = cv2.imread(\"Schwarm.jpg\",0)\n",
    "# Parameter-Grenzen, wobei die Änderung des Parameters nur\n",
    "# bei mouse release events an die Funktion übergeben werden.\n",
    "# Sinnvoll bei Funktionen mit langer Laufzeit! (hier nur als Beispiel)\n",
    "thresh_limit = widgets.FloatSlider(value=127, min=0, max=255, step=1, continuous_update=True)\n",
    "\n",
    "# Interaktives Widget initialisieren und ausführen\n",
    "# image=fixed(img) - der Parameter image der Funktion edit_image soll nicht verändert werden\n",
    "\n",
    "interact(edit_image, image=fixed(img), Threshold=thresh_limit);"
   ]
  },
  {
   "cell_type": "markdown",
   "metadata": {},
   "source": [
    "# 3. Diskretisierung\n",
    "\n",
    "Bearbeiten Sie das Originalbild \"Schwarm.jpg\", indem Sie folgende Operationen durchführen:\n",
    "\n",
    "- 3.1. Anzahl der Graustufen reduzieren (4 Stufen: 128, 64, 32, 16). Nehmen Sie hier als Ausgangsbild das Grauwert-transformierte Originalbild.\n",
    "- 3.2. Anzahl der Bildpunkte reduzieren (512x512, 256x256, 128x128, 32x32) \n",
    "- 3.2. Anzahl der Farbstufen reduzieren (in 4 Stufen)\n",
    "\n",
    "Visualisieren Sie diese Teilaufgaben jeweils mit Hilfe der `subplot`-Funktion in einem 2x2-Raster.\n",
    "\n",
    "***Hinweis:*** \n",
    "- Es ist Ihnen überlassen, welche Libraries bzw. welche Funktionen Sie hierfür verwenden. Wichtig ist, dass Sie die Vorgehensweise der eingesetzten Algorithmen nachvollziehen und wiedergeben können!\n",
    "- Beschreiben Sie bei jeder Teilaufgabe den Ablauf Ihres Algorithmus (stichpunktartige Wiedergabe reicht aus)\n",
    "- Sie dürfen auch die, in der Vorlesung vorgestellten Algorithmen `Fehlerdiffusion` und `Median Cut` einsetzen, um vorallem eine Grau-/Farbwertreduktion durchzuführen"
   ]
  },
  {
   "cell_type": "code",
   "execution_count": null,
   "metadata": {
    "scrolled": true
   },
   "outputs": [],
   "source": [
    "# Importing Image module from PIL package  \n",
    "from PIL import Image  \n",
    "import PIL  \n",
    "from PIL import ImageOps\n",
    "image = Image.open(\"Schwarm.jpg\")  \n",
    "# creating a image object (main image)  \n",
    "grey = PIL.ImageOps.grayscale(image)\n",
    "# quantize a image  \n",
    "plt.figure(figsize=(15,15))\n",
    "plt.subplot(2, 2, 1), plt.imshow((grey.quantize(128)))\n",
    "plt.title(\"Grayscale = 128\")\n",
    "plt.subplot(2, 2, 2),plt.imshow(grey.quantize(64))\n",
    "plt.title(\"Grayscale = 64\")\n",
    "plt.subplot(2, 2,3), plt.imshow(grey.quantize(32))\n",
    "plt.title(\"Grayscale = 32\")\n",
    "plt.subplot(2, 2,4),plt.imshow(grey.quantize(16))\n",
    "plt.title(\"Grayscale = 16\")\n",
    "plt.show()\n",
    "\n",
    "# Bild kann mithilfe ImageOps.grayscale in ein Grau(Graustufen) Bild und kann anschließend mithilfe der quantize Funktion in Graustufen aufgeteilt werden.\n",
    "# Hierzu wird auf einem dreidimensionalen Histogramm des Bildes, eine Verteilung der ursprünglichen Farben auf die Farben des farbreduzierten Bildes produziert. \n",
    "# Der Farbraum des Bildes wird durch das Verfahren in immer kleinere \"Würfel\" unterteilt, bis die Anzahl der Würfel der Anzahl der Farbstufen entspricht."
   ]
  },
  {
   "cell_type": "code",
   "execution_count": null,
   "metadata": {},
   "outputs": [],
   "source": [
    "from PIL import Image\n",
    "\n",
    "img = Image.open('Schwarm.jpg')\n",
    "\n",
    "new_img512 = img.resize((512,512), Image.ANTIALIAS)\n",
    "new_img256 = img.resize((256,256), Image.ANTIALIAS)\n",
    "new_img128 = img.resize((128,128), Image.ANTIALIAS)\n",
    "new_img32 = img.resize((32,32), Image.ANTIALIAS)\n",
    "\n",
    "plt.figure(figsize=(15,15))\n",
    "plt.subplot(2, 2, 1), plt.imshow(new_img512)\n",
    "plt.title(\"Pixel=512\")\n",
    "plt.subplot(2, 2, 2), plt.imshow(new_img256)\n",
    "plt.title(\"Pixel=256\")\n",
    "plt.subplot(2, 2, 3), plt.imshow(new_img128)\n",
    "plt.title(\"Pixel=128\")\n",
    "plt.subplot(2, 2, 4), plt.imshow(new_img32)\n",
    "plt.title(\"Pixel=32\")\n",
    "plt.show()\n",
    "\n",
    "# Das Bild Format kann mithilfe der resize Funktion auf die gewünschte Pixel Anzahl (In X- & Y- Achse) eingestellt werden.\n",
    "# Durch die Verminderung der Pixel können unerwünschte Effekte eintreten die durch ANTIALIAS vermindert werden können."
   ]
  },
  {
   "cell_type": "code",
   "execution_count": null,
   "metadata": {},
   "outputs": [],
   "source": [
    "\n",
    "from PIL import ImageOps\n",
    "img = Image.open('Schwarm.jpg')\n",
    "\n",
    "new_img8 = PIL.ImageOps.posterize(img, 8)\n",
    "new_img6 = PIL.ImageOps.posterize(img, 6)\n",
    "new_img4 = PIL.ImageOps.posterize(img, 4)\n",
    "new_img2 = PIL.ImageOps.posterize(img, 2)\n",
    "\n",
    "\n",
    "plt.figure(figsize=(15,15))\n",
    "plt.subplot(2, 2, 1), plt.imshow(new_img8)\n",
    "plt.title(\"8- bits\")\n",
    "plt.subplot(2, 2, 2), plt.imshow(new_img6)\n",
    "plt.title(\"6 - bits\")\n",
    "plt.subplot(2, 2, 3), plt.imshow(new_img4)\n",
    "plt.title(\"4 - bits\")\n",
    "plt.subplot(2, 2, 4), plt.imshow(new_img2)\n",
    "plt.title(\"2 - bits\")\n",
    "plt.show()\n",
    "\n",
    "# Siehe 3.1 mit unterschied das hier Farbstufen geändert werden statt Graustufen\n",
    "# Durch posterize werden die Anzahl der Bits durch jeden Farb-Kanal reduziert."
   ]
  },
  {
   "cell_type": "code",
   "execution_count": null,
   "metadata": {},
   "outputs": [],
   "source": []
  },
  {
   "cell_type": "code",
   "execution_count": null,
   "metadata": {},
   "outputs": [],
   "source": []
  }
 ],
 "metadata": {
  "kernelspec": {
   "display_name": "Python 3",
   "language": "python",
   "name": "python3"
  },
  "language_info": {
   "codemirror_mode": {
    "name": "ipython",
    "version": 3
   },
   "file_extension": ".py",
   "mimetype": "text/x-python",
   "name": "python",
   "nbconvert_exporter": "python",
   "pygments_lexer": "ipython3",
   "version": "3.7.5"
  }
 },
 "nbformat": 4,
 "nbformat_minor": 2
}
